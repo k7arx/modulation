{
 "cells": [
  {
   "cell_type": "markdown",
   "metadata": {},
   "source": [
    "# Creating Morse Code Audio\n",
    "\n",
    "I got my General Class license back when Morse Code was still a requirement. It's really not difficult to learn, and is a convenient way to send information. To examine some of the modulation techniques, I need some form of audio file. I made this notebook to generate audio files of arbitrary messaages in Morse Code."
   ]
  },
  {
   "cell_type": "code",
   "execution_count": 1,
   "metadata": {},
   "outputs": [],
   "source": [
    "### Useful modules, configuration for this notebook.\n",
    "\n",
    "%matplotlib inline\n",
    "\n",
    "import numpy as np\n",
    "import matplotlib.pyplot as plt\n",
    "import soundfile as sf\n",
    "\n",
    "plt.rcParams['font.size']=14"
   ]
  },
  {
   "cell_type": "code",
   "execution_count": 2,
   "metadata": {},
   "outputs": [],
   "source": [
    "### Defining a dictionary for converting text to Morse. The dictionary will use the conventional - and . to indicate\n",
    "#   the individual symbols for each character.\n",
    "\n",
    "code = {'A':'.-', 'B':'-...', 'C':'-.-.', 'D':'-..', 'E':'.', 'F':'..-.', 'G':'--.', 'H':'....', 'I':'..', 'J':'.---', 'K':'-.-', \n",
    "        'L':'.-..', 'M':'--', 'N':'-.', 'O':'---', 'P':'.--.', 'Q':'--.-', 'R':'.-.', 'S':'...', 'T':'-', 'U':'..-', 'V':'...-', \n",
    "        'W':'.--', 'X':'-..-', 'Y':'-.--', 'Z':'--..', '1':'.----', '2':'..---', '3':'...--', '4':'....-', '5':'.....', \n",
    "        '6':'-....', '7':'--...', '8':'---..', '9':'----.', '0':'-----', '.':'.-.-.-', ',':'--..--', '?':'..--..', \n",
    "        ';':'-.-.-', ':':'---...', '/':'-..-.', '+':'.-.-.', '-':'-....-', '=':'-...-', '(':'-.--.', ')':'-.--.-'}"
   ]
  },
  {
   "cell_type": "markdown",
   "metadata": {},
   "source": [
    "## Functions\n",
    "\n",
    "The mark() function creates an array of a sine wave for generating the audio.\n",
    "  * freq: the frequency of the tone being used for a mark signal\n",
    "  * length: the duration (in seconds) of the tone\n",
    "  * fs: the sample frequency of the audio being generated\n",
    "  * faderate: to minimize high frequency noise due to sharp changes in phase between mark and space, the tone is faded out at the end. The larger the value, the wider the applied fade. 0.97 was found by experiment to be a reasonable value.\n",
    "  * fadestart: number of indicies at the end of the array to apply the fade to. If a long faderate is used, this number may need to be increased. No harm is done by having this number wide, as most of the values will be 1 unless an extreme faderate is used.\n",
    "  * time: Boolean flag to indicate whether the time array should also be returned. The time array is not used in building the audio file, so this is for testing purposes only.\n",
    "  \n",
    "The space() function creates and array of zeros for generating the gaps between tones in the audio.\n",
    "  * length: the duration (in seconds) of the silence\n",
    "  * fs: the sample frequency of the audio being generated\n",
    "  * time: Boolean flag to indicate whether the time array should also be returned. The time array is not used in building the audio file, so this is for testing purposes only.\n",
    "  \n",
    "The build() function actually generates the complete waveform for the message being encoded.\n",
    "  * message: ASCII text to encode\n",
    "  * char_rate: the rate (in wpm) to produce the morse tones for individual characters.\n",
    "  * word_rate: if using Farnsworth timing, set this to the rate at which words should be sent. If None, words are sent at char_rate.\n",
    "  * fs: the sample frequency of the audio being generated\n",
    "  * ft: the frequency of the tone to use in the audio\n",
    "  * frontpad: Boolean flag to indicate whether some silence should be inserted at the front of the waveform. Adds padsize seconds at the front.\n",
    "  * endpad: Boolean flag to indicate whether extra silence at the end of the waveform should be left. The extra silence resulting from the build() function automatically addinng 3 bit times at the end of every character is removed. If true, this adds padsize seconds back at the end. Always removing the last 3 farnsworth times lets us have direct control over the amount of silence at the front and back of the waveform.\n",
    "  * padsize: amount of pad to use on the ends. Default is 0.5 seconds."
   ]
  },
  {
   "cell_type": "code",
   "execution_count": 3,
   "metadata": {},
   "outputs": [],
   "source": [
    "def mark(freq,length,fs,faderate=0.97,fadestart=200,time=False):\n",
    "    t = np.arange(0,length,1/fs)\n",
    "    y = np.sin(2*np.pi*freq*t)\n",
    "    ramp = np.ones_like(t)\n",
    "    fade = 1-np.array([faderate**i for i in range(fadestart)])[::-1]\n",
    "    ramp[-1*fadestart:] *= fade\n",
    "\n",
    "    if time:\n",
    "        return t,y*ramp\n",
    "    else:\n",
    "        return y*ramp\n",
    "    \n",
    "def space(length,fs,time=False):\n",
    "    t = np.arange(0,length,1/fs)\n",
    "    y = 0*t\n",
    "    if time:\n",
    "        return t,y\n",
    "    else:\n",
    "        return y\n",
    "\n",
    "def build(message, char_rate, word_rate=None, fs=48000, ft=700, frontpad=False, endpad=False, padsize=0.5):\n",
    "    if char_rate < word_rate:\n",
    "        print(\"Character speed must be at least the effective word speed.\")\n",
    "        return None\n",
    "    word_bittime = 6./5./word_rate\n",
    "    char_bittime = 6./5./char_rate\n",
    "    \n",
    "    timing = {'.':1*char_bittime, '-':3*char_bittime}\n",
    "    \n",
    "    signal = np.array([])\n",
    "    if frontpad:                # Pad the front with some extra time. \n",
    "        signal = np.concatenate([signal,space(padsize,fs)])\n",
    "        \n",
    "    for c in message:\n",
    "        if word_rate is None or char_rate==word_rate:\n",
    "            if c==' ':\n",
    "                signal = np.concatenate([signal,space(4*char_bittime,fs)])   # 3 of the space timings are already done from the previous character\n",
    "            else:\n",
    "                for e in code[c.upper()]:\n",
    "                    signal = np.concatenate([signal,mark(ft,timing[e],fs)])\n",
    "                    signal = np.concatenate([signal,space(char_bittime,fs)])\n",
    "                signal = np.concatenate([signal,space(2*char_bittime,fs)])\n",
    "            back = space(3*char_bittime,fs)\n",
    "            signal = signal[:-1*len(back)]\n",
    "        else:\n",
    "            farns = (60-31*word_rate*char_bittime)/(19*word_rate)\n",
    "            if c == ' ':\n",
    "                signal = np.concatenate([signal,space(4*farns,fs)])\n",
    "            else:\n",
    "                for e in code[c.upper()]:\n",
    "                    signal = np.concatenate([signal,mark(ft,timing[e],fs)])\n",
    "                    signal = np.concatenate([signal,space(char_bittime,fs)])\n",
    "                signal = np.concatenate([signal,space(3*farns-char_bittime,fs)])\n",
    "\n",
    "            back = space(3*farns,fs)    # Remove the last extraneous 3(2) farnsworth(bit) times\n",
    "            signal = signal[:-1*len(back)]\n",
    "    \n",
    "    if endpad:\n",
    "        signal = np.concatenate([signal,space(padsize,fs)])\n",
    "        \n",
    "    return signal\n"
   ]
  },
  {
   "cell_type": "markdown",
   "metadata": {},
   "source": [
    "# Example\n",
    "\n",
    "Here's an example waveform built from my call sign."
   ]
  },
  {
   "cell_type": "code",
   "execution_count": 4,
   "metadata": {},
   "outputs": [
    {
     "data": {
      "image/png": "[encoded data removed]",
      "text/plain": [
       "<Figure size 1440x504 with 1 Axes>"
      ]
     },
     "metadata": {
      "needs_background": "light"
     },
     "output_type": "display_data"
    }
   ],
   "source": [
    "tone = 700\n",
    "char_rate = 20 # wpm\n",
    "word_rate = 12 # wpm\n",
    "fs = 48000     # Use any convenient sample rate. Should be > 2*max audio frequency\n",
    "\n",
    "signal = build('k7arx', char_rate, word_rate=word_rate, fs=fs, ft=tone, frontpad=True, endpad=True)\n",
    "time = np.arange(0,len(signal)/fs,1/fs)[:len(signal)]\n",
    "\n",
    "plt.figure(figsize=(20,7))\n",
    "plt.plot(time,signal);"
   ]
  },
  {
   "cell_type": "code",
   "execution_count": 5,
   "metadata": {},
   "outputs": [],
   "source": [
    "### Lets us resample the audio to standard audio sample rates. The waveform could have been built with this sample rate to begin with,\n",
    "#   but I chose to use a non-standard rate to build the wave form so that I could demonstrate how to resample.\n",
    "\n",
    "out_fs = 44100    # standard audio sampling rate\n",
    "out_time = np.arange(0,time[-1],1/out_fs)   # Create the time base for the output signal\n",
    "out_signal = np.interp(out_time,time,signal)\n",
    "vol = 0.75    # a volume control if desired. Using 0.75 to prevent distortion in future experiments using this audio file.\n",
    "\n",
    "sf.write(\"My_Morse_Packet.wav\",vol*out_signal,out_fs)"
   ]
  },
  {
   "cell_type": "code",
   "execution_count": null,
   "metadata": {},
   "outputs": [],
   "source": []
  }
 ],
 "metadata": {
  "kernelspec": {
   "display_name": "Python 3",
   "language": "python",
   "name": "python3"
  },
  "language_info": {
   "codemirror_mode": {
    "name": "ipython",
    "version": 3
   },
   "file_extension": ".py",
   "mimetype": "text/x-python",
   "name": "python",
   "nbconvert_exporter": "python",
   "pygments_lexer": "ipython3",
   "version": "3.8.2"
  }
 },
 "nbformat": 4,
 "nbformat_minor": 4
}
